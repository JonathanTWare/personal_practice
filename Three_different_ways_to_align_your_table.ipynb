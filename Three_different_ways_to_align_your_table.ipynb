{
 "cells": [
  {
   "cell_type": "code",
   "execution_count": 1,
   "id": "f7fed8f6",
   "metadata": {},
   "outputs": [
    {
     "name": "stdout",
     "output_type": "stream",
     "text": [
      "|    | Name    |   Age | Gender   |\n",
      "|---:|:--------|------:|:---------|\n",
      "|  0 | Alice   |    25 | Female   |\n",
      "|  1 | Bob     |    30 | Male     |\n",
      "|  2 | Charlie |    35 | Male     |\n"
     ]
    }
   ],
   "source": [
    "import pandas as pd\n",
    "\n",
    "data = [\n",
    "    [\"Alice\", 25, \"Female\"],\n",
    "    [\"Bob\", 30, \"Male\"],\n",
    "    [\"Charlie\", 35, \"Male\"],\n",
    "]\n",
    "\n",
    "df = pd.DataFrame(data, columns=[\"Name\", \"Age\", \"Gender\"])\n",
    "print(df.to_markdown())"
   ]
  },
  {
   "cell_type": "code",
   "execution_count": 2,
   "id": "125e89a9",
   "metadata": {},
   "outputs": [
    {
     "name": "stdout",
     "output_type": "stream",
     "text": [
      "| Name    |   Age | Gender   |\n",
      "|:--------|------:|:---------|\n",
      "| Alice   |    25 | Female   |\n",
      "| Bob     |    30 | Male     |\n",
      "| Charlie |    35 | Male     |\n"
     ]
    }
   ],
   "source": [
    "from tabulate import tabulate\n",
    "\n",
    "data = [\n",
    "    [\"Name\", \"Age\", \"Gender\"],\n",
    "    [\"Alice\", \"25\", \"Female\"],\n",
    "    [\"Bob\", \"30\", \"Male\"],\n",
    "    [\"Charlie\", \"35\", \"Male\"],\n",
    "]\n",
    "\n",
    "print(tabulate(data, headers='firstrow', tablefmt='pipe'))\n"
   ]
  },
  {
   "cell_type": "code",
   "execution_count": 3,
   "id": "99e62cbe",
   "metadata": {},
   "outputs": [
    {
     "name": "stdout",
     "output_type": "stream",
     "text": [
      "Name     |Age      |Gender   \n",
      "-----------------------------\n",
      "Alice    |25       |Female   \n",
      "Bob      |30       |Male     \n",
      "Charlie  |35       |Male     \n"
     ]
    }
   ],
   "source": [
    "\n",
    "data = [\n",
    "    [\"Name\", \"Age\", \"Gender\"],\n",
    "    [\"Alice\", \"25\", \"Female\"],\n",
    "    [\"Bob\", \"30\", \"Male\"],\n",
    "    [\"Charlie\", \"35\", \"Male\"],\n",
    "]\n",
    "\n",
    "col_width = max(len(word) for row in data for word in row) + 2\n",
    "\n",
    "print(\"|\".join(word.ljust(col_width) for word in data[0]))\n",
    "\n",
    "print(\"-\" * (col_width * len(data[0]) + len(data[0]) - 1))\n",
    "\n",
    "for row in data[1:]:\n",
    "    print(\"|\".join(word.ljust(col_width) for word in row))"
   ]
  }
 ],
 "metadata": {
  "kernelspec": {
   "display_name": "Python 3 (ipykernel)",
   "language": "python",
   "name": "python3"
  },
  "language_info": {
   "codemirror_mode": {
    "name": "ipython",
    "version": 3
   },
   "file_extension": ".py",
   "mimetype": "text/x-python",
   "name": "python",
   "nbconvert_exporter": "python",
   "pygments_lexer": "ipython3",
   "version": "3.10.9"
  }
 },
 "nbformat": 4,
 "nbformat_minor": 5
}
